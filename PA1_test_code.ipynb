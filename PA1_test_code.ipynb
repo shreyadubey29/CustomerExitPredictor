{
 "cells": [
  {
   "cell_type": "markdown",
   "metadata": {},
   "source": [
    "#  Programming Assignment 1\n",
    "* Author: Shreya Dubey "
   ]
  },
  {
   "cell_type": "code",
   "execution_count": 1,
   "metadata": {},
   "outputs": [
    {
     "name": "stderr",
     "output_type": "stream",
     "text": [
      "Using TensorFlow backend.\n"
     ]
    }
   ],
   "source": [
    "import numpy as np\n",
    "import pandas as pd\n",
    "import sklearn\n",
    "from sklearn.model_selection import train_test_split\n",
    "from sklearn import metrics\n",
    "from keras.models import Sequential\n",
    "from keras.layers import Dense\n",
    "from sklearn.preprocessing import LabelEncoder\n",
    "import matplotlib.pyplot as plt\n",
    "import seaborn as sns\n",
    "from sklearn.preprocessing import MinMaxScaler\n",
    "import pickle"
   ]
  },
  {
   "cell_type": "code",
   "execution_count": 2,
   "metadata": {},
   "outputs": [
    {
     "name": "stderr",
     "output_type": "stream",
     "text": [
      "C:\\Users\\khare\\Anaconda3\\lib\\site-packages\\sklearn\\preprocessing\\data.py:323: DataConversionWarning: Data with input dtype uint8, int64, float64 were all converted to float64 by MinMaxScaler.\n",
      "  return self.partial_fit(X, y)\n"
     ]
    }
   ],
   "source": [
    "# getting scaler model trained on training data\n",
    "dataset = pd.read_csv(\"dataset.csv\")\n",
    "dataset = dataset.drop(['CustomerId','Surname'],axis=1)\n",
    "geo_encoded = pd.get_dummies(dataset['Geography'])\n",
    "gen_encoded = pd.get_dummies(dataset['Gender'])\n",
    "\n",
    "dataset = pd.concat([dataset,geo_encoded],axis=1)\n",
    "dataset = pd.concat([dataset,gen_encoded],axis=1)\n",
    "\n",
    "dataset = dataset.drop(['Geography','Gender'],axis=1)\n",
    "train_X = dataset.drop(['Exited'],axis=1)\n",
    "scaler = MinMaxScaler()\n",
    "train_X = scaler.fit(train_X)"
   ]
  },
  {
   "cell_type": "code",
   "execution_count": 3,
   "metadata": {},
   "outputs": [],
   "source": [
    "# loading the judge data\n",
    "judge_data = pd.read_csv(\"judge.csv\")"
   ]
  },
  {
   "cell_type": "code",
   "execution_count": 4,
   "metadata": {},
   "outputs": [],
   "source": [
    "# Preprocessing the judge data\n",
    "customerID = judge_data['CustomerId']\n",
    "judge_data = judge_data.drop(['CustomerId','Surname'],axis=1)\n",
    "\n",
    "geo_encoded = pd.get_dummies(judge_data['Geography'])\n",
    "gen_encoded = pd.get_dummies(judge_data['Gender'])\n",
    "judge_data = pd.concat([judge_data,geo_encoded],axis=1)\n",
    "judge_data = pd.concat([judge_data,gen_encoded],axis=1)\n",
    "\n",
    "judge_data = judge_data.drop(['Geography','Gender'],axis=1)\n",
    "\n",
    "judge_data = scaler.transform(judge_data)"
   ]
  },
  {
   "cell_type": "code",
   "execution_count": 5,
   "metadata": {},
   "outputs": [
    {
     "name": "stdout",
     "output_type": "stream",
     "text": [
      "WARNING:tensorflow:From C:\\Users\\khare\\Anaconda3\\lib\\site-packages\\tensorflow\\python\\framework\\op_def_library.py:263: colocate_with (from tensorflow.python.framework.ops) is deprecated and will be removed in a future version.\n",
      "Instructions for updating:\n",
      "Colocations handled automatically by placer.\n",
      "WARNING:tensorflow:From C:\\Users\\khare\\Anaconda3\\lib\\site-packages\\tensorflow\\python\\ops\\math_ops.py:3066: to_int32 (from tensorflow.python.ops.math_ops) is deprecated and will be removed in a future version.\n",
      "Instructions for updating:\n",
      "Use tf.cast instead.\n"
     ]
    }
   ],
   "source": [
    "# Adding bias to the data\n",
    "ones = np.ones([judge_data.shape[0],1])\n",
    "judge_data = np.concatenate((ones,judge_data),axis=1)\n",
    "\n",
    "# Prediction on judge data\n",
    "loaded_model = pickle.load(open('final_model.sav','rb'))\n",
    "output = loaded_model.predict_classes(judge_data)"
   ]
  },
  {
   "cell_type": "code",
   "execution_count": 6,
   "metadata": {},
   "outputs": [],
   "source": [
    "judge_pred = pd.DataFrame({'CustomerID':customerID[:],'Exited':output[:,0]})\n",
    "\n",
    "judge_pred.to_csv('judge_pred.csv', sep=',')"
   ]
  }
 ],
 "metadata": {
  "kernelspec": {
   "display_name": "Python 3",
   "language": "python",
   "name": "python3"
  },
  "language_info": {
   "codemirror_mode": {
    "name": "ipython",
    "version": 3
   },
   "file_extension": ".py",
   "mimetype": "text/x-python",
   "name": "python",
   "nbconvert_exporter": "python",
   "pygments_lexer": "ipython3",
   "version": "3.7.1"
  }
 },
 "nbformat": 4,
 "nbformat_minor": 2
}
